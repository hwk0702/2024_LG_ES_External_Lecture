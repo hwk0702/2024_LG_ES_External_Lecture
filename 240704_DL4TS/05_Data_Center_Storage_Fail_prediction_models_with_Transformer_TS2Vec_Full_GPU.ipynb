{
 "cells": [
  {
   "cell_type": "markdown",
   "id": "6b32c810",
   "metadata": {},
   "source": [
    "# [엘리스] SKHy2 가이드 프로젝트"
   ]
  },
  {
   "cell_type": "markdown",
   "id": "6c4b4261",
   "metadata": {},
   "source": [
    "## Transformer를 활용한 Data Center Storage Fail 예측 모델 학습, 검증 및 시각화 Part 2"
   ]
  },
  {
   "cell_type": "markdown",
   "id": "5d87b9ef",
   "metadata": {},
   "source": [
    "### 강의 복습\n",
    "강의자료 : Transformer 및 시계열 표상 학습 기반의 Data Center Storage Fail 예측\n",
    "\n",
    "- `Anomaly Detection`: 일부 기간 데이터를 입력으로 하여 해당 상황의 정상/비정상 여부를 탐지\n",
    "- `Transformer`: Transformer는 Sequence를 입력으로 받아 sequenc를 출력하는 구조이므로, 시계열 과업에도 적용 가능\n",
    "- `Representation learning` : 시계열의 의미 있는 정보를 더 쉽게 추출할 수 있도록 고차원의 raw data를 저 차원 공간에 mapping하는 것을 목표, 비지도 학습 방식으로 해당 데이터의 representation을 학습하고, 이를 downstreamtask에서 활용하는 방식"
   ]
  },
  {
   "cell_type": "markdown",
   "id": "d5d4ccc0",
   "metadata": {},
   "source": [
    "<img src=\"../image/AD01.png\" width=\"800\">"
   ]
  },
  {
   "cell_type": "markdown",
   "id": "b96b1d0f",
   "metadata": {},
   "source": [
    "### 실습 요약\n",
    "\n",
    "1. 본 실습에서는 Transformer를 활용한 representation learning 모델인 TS2Vec을 활용하여 시계열 이상탐지를 수행합니다.\n",
    "2. Unlabeled data로 부터 Positive / Negative pair를 구축하여 contrastive learning을 통해 pre-training을 수행합니다.\n",
    "3. 이상탐지 과업을 수행하도록 fine-tuning을 진행합니다.\n",
    "4. 해당 모델에 대한 전체적인 구조는 강의자료 17 page에서 확인하실 수 있습니다."
   ]
  },
  {
   "cell_type": "markdown",
   "id": "38e62ee6",
   "metadata": {},
   "source": [
    "[Yue, Zhihan, et al. \"Ts2vec: Towards universal representation of time series.\" Proceedings of the AAAI Conference on Artificial Intelligence. Vol. 36. No. 8. 2022.](https://ojs.aaai.org/index.php/AAAI/article/view/20881)"
   ]
  },
  {
   "cell_type": "markdown",
   "id": "8efe0cce",
   "metadata": {},
   "source": [
    "<img src=\"../image/ts2vec01.png\" width=\"600\">"
   ]
  },
  {
   "cell_type": "markdown",
   "id": "ce16c28d",
   "metadata": {},
   "source": [
    "---"
   ]
  },
  {
   "cell_type": "markdown",
   "id": "5f5ec78d",
   "metadata": {},
   "source": [
    "### STEP 0. 환경 구축하기"
   ]
  },
  {
   "cell_type": "markdown",
   "id": "9a0dba46",
   "metadata": {},
   "source": [
    "- 필요한 library들을 import 합니다."
   ]
  },
  {
   "cell_type": "code",
   "execution_count": 1,
   "id": "59ef2330",
   "metadata": {
    "ExecuteTime": {
     "end_time": "2023-11-09T15:59:19.923882Z",
     "start_time": "2023-11-09T15:59:19.916507Z"
    }
   },
   "outputs": [
    {
     "name": "stdout",
     "output_type": "stream",
     "text": [
      "/tf/dsba/external_lecture/Elice_SK_Guided_PJT/src/ts2vec\n"
     ]
    }
   ],
   "source": [
    "# github에서 데이터 불러오기\n",
    "# %cd ../\n",
    "# !git clone https://github.com/yuezhihan/ts2vec.git\n",
    "# %cd Elice_SK_Guided_PJT/src/ts2vec\n",
    "%cd ../ts2vec"
   ]
  },
  {
   "cell_type": "code",
   "execution_count": 2,
   "id": "8af2b955",
   "metadata": {
    "ExecuteTime": {
     "end_time": "2023-11-09T15:59:21.586103Z",
     "start_time": "2023-11-09T15:59:20.258618Z"
    }
   },
   "outputs": [
    {
     "name": "stdout",
     "output_type": "stream",
     "text": [
      "Python version:[3.6.9 (default, Dec  8 2021, 21:08:43) \n",
      "[GCC 8.4.0]].\n",
      "PyTorch version:[1.7.1].\n",
      "device:[cuda:1].\n"
     ]
    }
   ],
   "source": [
    "import os\n",
    "import sys\n",
    "import time\n",
    "import random\n",
    "import numpy as np\n",
    "import pandas as pd\n",
    "import matplotlib.pyplot as plt\n",
    "from datetime import timedelta\n",
    "import dateutil\n",
    "import math\n",
    "from sklearn.metrics import confusion_matrix, precision_score, recall_score, fbeta_score\n",
    "from sklearn.model_selection import KFold\n",
    "\n",
    "import torch\n",
    "import torch.nn.functional as F\n",
    "import torch.backends.cudnn as cudnn\n",
    "from torch.utils.data import DataLoader\n",
    "from torch.utils.data import Dataset\n",
    "import torch.nn as nn\n",
    "\n",
    "from models import TSEncoder\n",
    "from models.losses import hierarchical_contrastive_loss\n",
    "from utils import init_dl_program, name_with_datetime, pkl_save, data_dropout\n",
    "from utils import take_per_row, split_with_nan, centerize_vary_length_series, torch_pad_nan\n",
    "\n",
    "import warnings\n",
    "warnings.filterwarnings(\"ignore\")\n",
    "\n",
    "#check torch version & device\n",
    "print (\"Python version:[%s].\"%(sys.version))\n",
    "print (\"PyTorch version:[%s].\"%(torch.__version__))\n",
    "device = torch.device('cuda:0' if torch.cuda.is_available() else 'cpu')\n",
    "device = init_dl_program(1, seed=42, max_threads=None)\n",
    "print (\"device:[%s].\"%(device)) # device에 cuda:0가 프린트 된다면 GPU를 사용하는 상태입니다"
   ]
  },
  {
   "cell_type": "code",
   "execution_count": 3,
   "id": "ae5b7d0b",
   "metadata": {
    "ExecuteTime": {
     "end_time": "2023-11-09T15:59:21.614572Z",
     "start_time": "2023-11-09T15:59:21.607029Z"
    }
   },
   "outputs": [],
   "source": [
    "# set random seed \n",
    "def set_seed(random_seed):\n",
    "    torch.manual_seed(random_seed)\n",
    "    torch.cuda.manual_seed(random_seed)\n",
    "    torch.cuda.manual_seed_all(random_seed)  # if use multi-GPU\n",
    "    torch.backends.cudnn.deterministic = True\n",
    "    torch.backends.cudnn.benchmark = False\n",
    "    np.random.seed(random_seed)\n",
    "    random.seed(random_seed)\n",
    "    \n",
    "random_seed = 42\n",
    "set_seed(random_seed)"
   ]
  },
  {
   "cell_type": "markdown",
   "id": "b9f6fa79",
   "metadata": {},
   "source": [
    "### STEP 1. 데이터 준비하기"
   ]
  },
  {
   "cell_type": "markdown",
   "id": "44991a88",
   "metadata": {},
   "source": [
    "지난 실습에서 전처리한 데이터셋을 불러옵니다."
   ]
  },
  {
   "cell_type": "markdown",
   "id": "70a18a61",
   "metadata": {},
   "source": [
    "- Dataset : train_preprocessed.pkl, valid_normal_preprocessed.pkl, valid_preprocessed.pkl \n",
    "- Info :\n",
    "    - X 변수들은 SSD신뢰성에 영향을 줄 수 있는 SMART Attribute\n",
    "    - Y는 특정 기준에 따라 분류된 Pass(0)/Fail(1)\n",
    "    - X 변수는 18개"
   ]
  },
  {
   "cell_type": "markdown",
   "id": "99c2c894",
   "metadata": {},
   "source": [
    "|Dataset|Length|#Normal|#Abnormal|#Serial|#Normal Serial|#Abnormal Serial|\n",
    "|----|----|----|----|----|----|----|\n",
    "|train|475,255|475,255|0|7,060|7,060|0|\n",
    "|valid_normal|118,773|118,773|0|1,765|1,765|0|\n",
    "|valid|218,874|118,773|100,101|3,281|1,765|1,516|"
   ]
  },
  {
   "cell_type": "markdown",
   "id": "e22fa1d3",
   "metadata": {},
   "source": [
    "|Index|Features|Format|Description|\n",
    "|----|----|----|:----|\n",
    "|1|Serial Number|15|Serial Number|\n",
    "|2|TIMESTAMP|2020.2.9  4:59:00 AM|Date-time reference|\n",
    "|3|X1|EI83N072710203N8D|Equipment name|\n",
    "|4|X2~18|27|Features|"
   ]
  },
  {
   "cell_type": "code",
   "execution_count": 4,
   "id": "00d8ad76",
   "metadata": {
    "ExecuteTime": {
     "end_time": "2023-11-09T15:59:22.127257Z",
     "start_time": "2023-11-09T15:59:21.908386Z"
    }
   },
   "outputs": [],
   "source": [
    "# 데이터셋 불러오기\n",
    "train_df = pd.read_pickle('../../data/train_preprocessed.pkl')\n",
    "valid_normal_df = pd.read_pickle('../../data/valid_normal_preprocessed.pkl')\n",
    "valid_df = pd.read_pickle('../../data/valid_preprocessed.pkl')"
   ]
  },
  {
   "cell_type": "markdown",
   "id": "eaf61ae1",
   "metadata": {},
   "source": [
    "### STEP 3. 데이터셋 및 데이터로더 생성"
   ]
  },
  {
   "cell_type": "markdown",
   "id": "41f049bb",
   "metadata": {},
   "source": [
    "각 serial 별로 input window를 구성하여 데이터셋, 데이터로더를 생성합니다."
   ]
  },
  {
   "cell_type": "markdown",
   "id": "c9c380bb",
   "metadata": {},
   "source": [
    "<img src=\"../image/AD_process03.png\" width=\"800\">"
   ]
  },
  {
   "cell_type": "code",
   "execution_count": 5,
   "id": "cfb459c4",
   "metadata": {
    "ExecuteTime": {
     "end_time": "2023-11-09T15:59:22.858127Z",
     "start_time": "2023-11-09T15:59:22.835304Z"
    }
   },
   "outputs": [],
   "source": [
    "class CustomDataset(Dataset):\n",
    "    def __init__(self,\n",
    "                 data: np.ndarray,\n",
    "                 timestamps: np.ndarray,\n",
    "                 serial_nums: np.ndarray,\n",
    "                 interval: dict,\n",
    "                 window_size: int,\n",
    "                 slide_size: int = 1,\n",
    "                 labels: np.ndarray = None):\n",
    "        \"\"\"\n",
    "        Initialize a custom dataset\n",
    "        :param data: 데이터 배열\n",
    "        :param timestamps: 타임스탬프 배열\n",
    "        :param serial_nums: 일련번호 배열\n",
    "        :param interval: 시간 간격\n",
    "        :param window_size: 윈도우 크기\n",
    "        :param slide_size: 슬라이드 크기 (기본값 1)\n",
    "        :param labels: 레이블 배열 (옵션)\n",
    "        \"\"\"\n",
    "        self.ts = np.array(timestamps)\n",
    "        self.serial_nums = serial_nums\n",
    "        self.tag_values = np.array(data, dtype=np.float32)\n",
    "        self.window_size = window_size\n",
    "        self.with_label = labels is not None\n",
    "        \n",
    "        if self.with_label:\n",
    "            self.labels = np.array(labels, dtype=np.float32)\n",
    "        \n",
    "        # 시간 간격 계산\n",
    "        delta = timedelta(days=interval['day'], \n",
    "                          hours=interval['hour'],\n",
    "                          minutes=interval['minute'],\n",
    "                          seconds=interval['second'])\n",
    "        \n",
    "        # 유효한 인덱스 계산\n",
    "        self.valid_idxs = []\n",
    "        for L in range(0, len(self.ts) - window_size + 1, slide_size):\n",
    "            R = L + window_size - 1\n",
    "            \n",
    "            if len(np.unique(serial_nums[L:R+1])) != 1:\n",
    "                continue\n",
    "                        \n",
    "            try:\n",
    "                if all(dateutil.parser.parse(self.ts[i+1]) - dateutil.parser.parse(self.ts[i]) \n",
    "                       == delta for i in range(L, R)):\n",
    "                    self.valid_idxs.append(L)\n",
    "            except:\n",
    "                if self.ts[R] - self.ts[L] == window_size - 1:\n",
    "                    self.valid_idxs.append(L)\n",
    "        \n",
    "        print(f\"# of valid windows: {len(self.valid_idxs)}\")\n",
    "    \n",
    "    def __len__(self):\n",
    "        \"\"\" 데이터셋 길이 반환 \"\"\"\n",
    "        return len(self.valid_idxs)\n",
    "    \n",
    "    def __getitem__(self, idx: int) -> dict:\n",
    "        \"\"\" 특정 인덱스의 데이터 반환 \"\"\"\n",
    "        i = self.valid_idxs[idx]\n",
    "        last = i + self.window_size\n",
    "        item = {\n",
    "            \"given\": torch.from_numpy(self.tag_values[i:last]),\n",
    "            \"answer\": torch.from_numpy(self.tag_values[i:last]),\n",
    "            \"serial_num\": self.serial_nums[i:last]\n",
    "        }\n",
    "\n",
    "        if self.with_label:\n",
    "            item['label'] = self.labels[i:last]\n",
    "        return item"
   ]
  },
  {
   "cell_type": "code",
   "execution_count": 6,
   "id": "fefb0c71",
   "metadata": {
    "ExecuteTime": {
     "end_time": "2023-11-09T16:03:37.802186Z",
     "start_time": "2023-11-09T15:59:23.265221Z"
    }
   },
   "outputs": [
    {
     "name": "stdout",
     "output_type": "stream",
     "text": [
      "# of valid windows: 61880\n",
      "# of valid windows: 16028\n",
      "# of valid windows: 146299\n"
     ]
    }
   ],
   "source": [
    "# 컬럼 키 추출\n",
    "serial_key = train_df.columns[0]\n",
    "date_time_key = train_df.columns[1]\n",
    "feature_keys = train_df.columns[3:-1]\n",
    "target_key = train_df.columns[-1]\n",
    "\n",
    "# 윈도우 크기 및 슬라이드 크기 설정\n",
    "window_size = 10\n",
    "slide_size = 5\n",
    "\n",
    "# 시간 간격 설정\n",
    "time_interval = {\n",
    "    'day': 1,\n",
    "    'hour': 0,\n",
    "    'minute': 15,\n",
    "    'second': 0\n",
    "}\n",
    "\n",
    "# 훈련 데이터셋 생성\n",
    "train_dataset = CustomDataset(data=np.array(train_df[feature_keys]),\n",
    "                              timestamps=np.array(train_df[date_time_key]),\n",
    "                              serial_nums=np.array(train_df[serial_key]),\n",
    "                              interval=time_interval,\n",
    "                              window_size=window_size,\n",
    "                              slide_size=slide_size)\n",
    "\n",
    "# 검증 데이터셋 생성 (정상 데이터만 포함)\n",
    "valid_normal_dataset = CustomDataset(data=np.array(valid_normal_df[feature_keys]),\n",
    "                                     timestamps=np.array(valid_normal_df[date_time_key]),\n",
    "                                     serial_nums=np.array(valid_normal_df[serial_key]),\n",
    "                                     interval=time_interval,\n",
    "                                     window_size=window_size,\n",
    "                                     slide_size=slide_size)\n",
    "\n",
    "# 검증 데이터셋 생성 (타깃 포함)\n",
    "valid_dataset = CustomDataset(data=np.array(valid_df[feature_keys]),\n",
    "                              timestamps=np.array(valid_df[date_time_key]),\n",
    "                              serial_nums=np.array(valid_df[serial_key]),\n",
    "                              interval=time_interval,\n",
    "                              window_size=window_size,\n",
    "                              slide_size=1,  \n",
    "                              labels=np.array(valid_df[target_key]))"
   ]
  },
  {
   "cell_type": "code",
   "execution_count": 7,
   "id": "870165a0",
   "metadata": {
    "ExecuteTime": {
     "end_time": "2023-11-09T16:03:38.077621Z",
     "start_time": "2023-11-09T16:03:38.069450Z"
    }
   },
   "outputs": [],
   "source": [
    "# DataLoader 설정 파라미터\n",
    "DataLoader_params = {\n",
    "    'batch_size': 256,\n",
    "    'shuffle': True,\n",
    "    'num_workers': 0,\n",
    "    'pin_memory' : True\n",
    "}\n",
    "\n",
    "# 훈련 데이터 로더 생성\n",
    "train_loader = DataLoader(dataset=train_dataset, **DataLoader_params)\n",
    "\n",
    "# 검증 데이터 로더 생성 시 셔플을 비활성화\n",
    "DataLoader_params['shuffle'] = False\n",
    "\n",
    "# 검증 데이터 로더 (정상 데이터만) 생성\n",
    "val_normal_loader = DataLoader(dataset=valid_normal_dataset, **DataLoader_params)\n",
    "\n",
    "# 검증 데이터 로더 (타깃 포함) 생성\n",
    "val_loader = DataLoader(dataset=valid_dataset, **DataLoader_params)"
   ]
  },
  {
   "cell_type": "code",
   "execution_count": 8,
   "id": "134d36b1",
   "metadata": {
    "ExecuteTime": {
     "end_time": "2023-11-09T16:03:40.526461Z",
     "start_time": "2023-11-09T16:03:38.310834Z"
    }
   },
   "outputs": [
    {
     "name": "stdout",
     "output_type": "stream",
     "text": [
      "torch.Size([256, 10, 17])\n"
     ]
    }
   ],
   "source": [
    "# train_loader의 첫 번째 배치를 추출\n",
    "first_batch = next(iter(train_loader))\n",
    "\n",
    "# 'given' 키에 해당하는 텐서의 형태 출력\n",
    "print(first_batch['given'].shape)\n",
    "\n",
    "# 첫 번째 'given' 텐서의 형태를 input_shape에 저장\n",
    "input_shape = first_batch['given'][0].shape"
   ]
  },
  {
   "cell_type": "markdown",
   "id": "9d5c843a",
   "metadata": {},
   "source": [
    "### STEP 4. 모델 (TS2Vec)"
   ]
  },
  {
   "cell_type": "markdown",
   "id": "b814bf37",
   "metadata": {},
   "source": [
    "- 어떠한 granularity에도 강건한 representation \n",
    "    - Multiple resolution의 contextual information 포착하여 모든 semantic level을 기반으로 representation 생성\n",
    "    - Hierarchical contrasting 구조로 어떠한 granularity의 데이터에 대해서라도 fine-grained representation 생성\n",
    "- 시계열 데이터의 특성에 적합한 augmentation 기법\n",
    "    - Transformation-invariance, cropping-invariance 가정의 도입 없이도 강건한 contextual representation을 학습할 수 있는 새로운 augmentation 방법론을 제안\n",
    "- Task에 agnostic한 representation\n",
    "    - Classification, forecasting task에 대해 무수히 많은 데이터셋을 기반으로 실험을 진행하고 효과를 입증"
   ]
  },
  {
   "cell_type": "markdown",
   "id": "b784c8ed",
   "metadata": {},
   "source": [
    "<img src=\"../image/ts2vec02.png\" width=\"600\">"
   ]
  },
  {
   "cell_type": "code",
   "execution_count": 9,
   "id": "e5f741d8",
   "metadata": {
    "ExecuteTime": {
     "end_time": "2023-11-09T16:03:40.853725Z",
     "start_time": "2023-11-09T16:03:40.820622Z"
    }
   },
   "outputs": [],
   "source": [
    "class TS2Vec:\n",
    "    '''The TS2Vec model'''\n",
    "    \n",
    "    def __init__(\n",
    "        self,\n",
    "        input_dims,\n",
    "        output_dims=320,\n",
    "        hidden_dims=64,\n",
    "        depth=10,\n",
    "        device='cuda',\n",
    "        lr=0.001,\n",
    "        batch_size=16,\n",
    "        max_train_length=None,\n",
    "        temporal_unit=0,\n",
    "        after_iter_callback=None,\n",
    "        after_epoch_callback=None\n",
    "    ):\n",
    "        ''' TS2Vec 모델 초기화 함수.\n",
    "        \n",
    "        Args:\n",
    "            input_dims (int): 입력 차원 수.\n",
    "            output_dims (int): 표현(representation) 차원 수.\n",
    "            hidden_dims (int): 인코더의 은닉 차원 수.\n",
    "            depth (int): 인코더 내부의 은닉 레지듀얼 블록 수.\n",
    "            device (str): 훈련 및 추론에 사용할 GPU 장치.\n",
    "            lr (float): 학습률.\n",
    "            batch_size (int): 배치 크기.\n",
    "            max_train_length (int, NoneType): 학습을 위한 최대 시퀀스 길이.\n",
    "            temporal_unit (int): 시간적 대조를 수행하기 위한 최소 단위.\n",
    "            after_iter_callback (Callable, NoneType): 각 반복 후 호출될 콜백 함수.\n",
    "            after_epoch_callback (Callable, NoneType): 각 에폭 후 호출될 콜백 함수.\n",
    "        '''\n",
    "        \n",
    "        super().__init__()\n",
    "        self.device = device\n",
    "        self.lr = lr\n",
    "        self.batch_size = batch_size\n",
    "        self.max_train_length = max_train_length\n",
    "        self.temporal_unit = temporal_unit\n",
    "        \n",
    "        self._net = TSEncoder(input_dims=input_dims, output_dims=output_dims, hidden_dims=hidden_dims, depth=depth).to(self.device)\n",
    "        self.net = torch.optim.swa_utils.AveragedModel(self._net)\n",
    "        self.net.update_parameters(self._net)\n",
    "        \n",
    "        self.after_iter_callback = after_iter_callback\n",
    "        self.after_epoch_callback = after_epoch_callback\n",
    "        \n",
    "        self.n_epochs = 0\n",
    "        self.n_iters = 0\n",
    "        \n",
    "    def fit(self, train_loader, n_epochs=None, n_iters=None, verbose=False):\n",
    "        ''' TS2Vec 모델 학습 함수.\n",
    "        \n",
    "        Args:\n",
    "            train_loader: 학습 데이터를 제공하는 DataLoader 객체.\n",
    "            n_epochs (Union[int, NoneType]): 학습할 총 에폭 수. 이 값이 지정되면, 지정된 에폭 수만큼 학습이 진행됩니다.\n",
    "            n_iters (Union[int, NoneType]): 학습할 총 반복(iteration) 횟수. 이 값이 지정되면, 지정된 반복 횟수만큼 학습이 진행됩니다.\n",
    "            verbose (bool): 학습 과정에서의 로그를 출력할지 여부를 결정하는 플래그.\n",
    "\n",
    "        Returns:\n",
    "            loss_log: 각 에폭에서의 학습 손실을 담은 리스트.\n",
    "        '''\n",
    "        \n",
    "        optimizer = torch.optim.AdamW(self._net.parameters(), lr=self.lr)  # 옵티마이저 초기화\n",
    "\n",
    "        loss_log = []  # 학습 손실을 기록할 리스트\n",
    "\n",
    "        while True:  # 무한 루프로 학습 진행\n",
    "            if n_epochs is not None and self.n_epochs >= n_epochs:\n",
    "                break  # 지정된 에폭 수에 도달하면 학습 중단\n",
    "\n",
    "            cum_loss = 0  # 에폭당 누적 손실\n",
    "            n_epoch_iters = 0  # 에폭당 반복 횟수\n",
    "\n",
    "            interrupted = False\n",
    "            for batch in train_loader:  # DataLoader를 통해 배치 데이터를 순회\n",
    "                if n_iters is not None and self.n_iters >= n_iters:\n",
    "                    interrupted = True\n",
    "                    break  # 지정된 반복 횟수에 도달하면 학습 중단\n",
    "                \n",
    "                # 데이터 처리 및 데이터 크롭 로직\n",
    "                x = batch['given']\n",
    "                if self.max_train_length is not None and x.size(1) > self.max_train_length:\n",
    "                    # 최대 학습 길이를 초과하는 경우 데이터를 잘라냄\n",
    "                    window_offset = np.random.randint(x.size(1) - self.max_train_length + 1)\n",
    "                    x = x[:, window_offset : window_offset + self.max_train_length]\n",
    "                x = x.to(self.device)\n",
    "                \n",
    "                # 시계열 데이터의 부분 시퀀스를 임의로 선택하여 데이터 쌍 생성\n",
    "                ts_l = x.size(1)\n",
    "                crop_l = np.random.randint(low=2 ** (self.temporal_unit + 1), high=ts_l+1)\n",
    "                crop_left = np.random.randint(ts_l - crop_l + 1)\n",
    "                crop_right = crop_left + crop_l\n",
    "                crop_eleft = np.random.randint(crop_left + 1)\n",
    "                crop_eright = np.random.randint(low=crop_right, high=ts_l + 1)\n",
    "                crop_offset = np.random.randint(low=-crop_eleft, high=ts_l - crop_eright + 1, size=x.size(0))\n",
    "                \n",
    "                optimizer.zero_grad()    # 그래디언트 초기화\n",
    "                \n",
    "                # 네트워크를 통해 예측값 계산 및 손실 계산\n",
    "                out1 = self._net(take_per_row(x, crop_offset + crop_eleft, crop_right - crop_eleft))\n",
    "                out1 = out1[:, -crop_l:]\n",
    "                \n",
    "                out2 = self._net(take_per_row(x, crop_offset + crop_left, crop_eright - crop_left))\n",
    "                out2 = out2[:, :crop_l]\n",
    "                \n",
    "                loss = hierarchical_contrastive_loss(\n",
    "                    out1,\n",
    "                    out2,\n",
    "                    temporal_unit=self.temporal_unit\n",
    "                )\n",
    "                \n",
    "                loss.backward()  # 역전파 수행\n",
    "                optimizer.step()  # 옵티마이저 업데이트\n",
    "                self.net.update_parameters(self._net)  # 네트워크 파라미터 업데이트\n",
    "                    \n",
    "                cum_loss += loss.item()  # 누적 손실 계산\n",
    "                n_epoch_iters += 1  # 에폭당 반복 횟수 증가\n",
    "\n",
    "                self.n_iters += 1  # 전체 반복 횟수 증가\n",
    "                \n",
    "                if self.after_iter_callback is not None:\n",
    "                    self.after_iter_callback(self, loss.item())\n",
    "            \n",
    "            if interrupted:\n",
    "                break\n",
    "            \n",
    "            cum_loss /= n_epoch_iters\n",
    "            loss_log.append(cum_loss)\n",
    "            if verbose:\n",
    "                print(f\"Epoch #{self.n_epochs}: loss={cum_loss}\")\n",
    "            self.n_epochs += 1\n",
    "            \n",
    "            if self.after_epoch_callback is not None:\n",
    "                self.after_epoch_callback(self, cum_loss)\n",
    "            \n",
    "        return loss_log\n",
    "    \n",
    "    def _eval_with_pooling(self, x, mask=None, slicing=None, encoding_window=None):\n",
    "        ''' 내부 평가 함수. 풀링을 사용하여 시계열 데이터의 representation을 계산합니다.\n",
    "\n",
    "        Args:\n",
    "            x (torch.Tensor): 입력 데이터 텐서.\n",
    "            mask (optional): 인코더에서 사용할 마스크. 마스크는 데이터의 특정 부분을 선택하거나 무시하는 데 사용됩니다.\n",
    "            slicing (optional): 입력 데이터의 특정 부분을 선택하기 위한 슬라이싱.\n",
    "            encoding_window (str or int, optional): 표현을 계산할 때 사용할 인코딩 윈도우. \n",
    "                'full_series': 전체 시리즈에 대한 최대 풀링을 적용합니다.\n",
    "                'multiscale': 다양한 크기의 풀링 윈도우를 적용하여 다중 스케일 표현을 계산합니다.\n",
    "                int: 지정된 크기의 풀링 윈도우를 적용합니다.\n",
    "\n",
    "        Returns:\n",
    "            torch.Tensor: 계산된 representation. CPU로 옮겨진 텐서.\n",
    "        '''\n",
    "        out = self.net(x.to(self.device, non_blocking=True), mask)    # 모델을 사용하여 representation 계산\n",
    "\n",
    "        # encoding_window 파라미터에 따라 다양한 풀링 방식 적용\n",
    "        # 'full_series', 'multiscale', 또는 정수형 윈도우 크기에 따라 풀링을 적용\n",
    "        if encoding_window == 'full_series':\n",
    "            if slicing is not None:\n",
    "                out = out[:, slicing]\n",
    "            out = F.max_pool1d(\n",
    "                out.transpose(1, 2),\n",
    "                kernel_size = out.size(1),\n",
    "            ).transpose(1, 2)\n",
    "            \n",
    "        elif isinstance(encoding_window, int):\n",
    "            out = F.max_pool1d(\n",
    "                out.transpose(1, 2),\n",
    "                kernel_size = encoding_window,\n",
    "                stride = 1,\n",
    "                padding = encoding_window // 2\n",
    "            ).transpose(1, 2)\n",
    "            if encoding_window % 2 == 0:\n",
    "                out = out[:, :-1]\n",
    "            if slicing is not None:\n",
    "                out = out[:, slicing]\n",
    "            \n",
    "        elif encoding_window == 'multiscale':\n",
    "            p = 0\n",
    "            reprs = []\n",
    "            while (1 << p) + 1 < out.size(1):\n",
    "                t_out = F.max_pool1d(\n",
    "                    out.transpose(1, 2),\n",
    "                    kernel_size = (1 << (p + 1)) + 1,\n",
    "                    stride = 1,\n",
    "                    padding = 1 << p\n",
    "                ).transpose(1, 2)\n",
    "                if slicing is not None:\n",
    "                    t_out = t_out[:, slicing]\n",
    "                reprs.append(t_out)\n",
    "                p += 1\n",
    "            out = torch.cat(reprs, dim=-1)\n",
    "            \n",
    "        else:\n",
    "            if slicing is not None:\n",
    "                out = out[:, slicing]\n",
    "            \n",
    "        return out.cpu()\n",
    "    \n",
    "    def encode(self, loader, mask=None, encoding_window=None, causal=False, sliding_length=None, sliding_padding=0, batch_size=None):\n",
    "        ''' 모델을 사용하여 데이터의 representations을 계산하는 메소드\n",
    "        \n",
    "        Args:\n",
    "        loader: 데이터를 로드하는 DataLoader 객체.\n",
    "        mask (str, optional): 인코더에서 사용할 마스크. 데이터의 특정 부분을 선택하거나 무시하는 데 사용됩니다.\n",
    "        encoding_window (str or int, optional): 표현을 계산할 때 사용할 인코딩 윈도우.\n",
    "            'full_series': 전체 시리즈에 대한 최대 풀링을 적용합니다.\n",
    "            'multiscale': 다양한 크기의 풀링 윈도우를 적용하여 다중 스케일 표현을 계산합니다.\n",
    "            int: 지정된 크기의 풀링 윈도우를 적용합니다.\n",
    "        causal (bool): 인코딩 시 미래 정보를 사용하지 않도록 하는 causal(인과적) 모드 설정 여부.\n",
    "        sliding_length (int, optional): 슬라이딩 윈도우의 길이.\n",
    "        sliding_padding (int): 슬라이딩 윈도우에서 패딩을 적용할 길이.\n",
    "        batch_size (int, optional): 추론에 사용할 배치 크기. 지정하지 않으면 학습 시 사용된 배치 크기와 동일하게 설정됩니다.\n",
    "\n",
    "    Returns:\n",
    "        numpy.ndarray: 계산된 데이터의 representations.\n",
    "        '''\n",
    "        assert self.net is not None, 'please train or load a net first'\n",
    "        \n",
    "        n_samples, ts_l, _ = next(iter(loader))['given'].shape\n",
    "\n",
    "        org_training = self.net.training\n",
    "        self.net.eval()\n",
    "        \n",
    "        with torch.no_grad():\n",
    "            output = []\n",
    "            for batch in loader:\n",
    "                x = batch['given']\n",
    "                if sliding_length is not None:\n",
    "                    reprs = []\n",
    "                    if n_samples < batch_size:\n",
    "                        calc_buffer = []\n",
    "                        calc_buffer_l = 0\n",
    "                    for i in range(0, ts_l, sliding_length):\n",
    "                        l = i - sliding_padding\n",
    "                        r = i + sliding_length + (sliding_padding if not causal else 0)\n",
    "                        x_sliding = torch_pad_nan(\n",
    "                            x[:, max(l, 0) : min(r, ts_l)],\n",
    "                            left=-l if l<0 else 0,\n",
    "                            right=r-ts_l if r>ts_l else 0,\n",
    "                            dim=1\n",
    "                        )\n",
    "                        if n_samples < batch_size:\n",
    "                            if calc_buffer_l + n_samples > batch_size:\n",
    "                                out = self._eval_with_pooling(\n",
    "                                    torch.cat(calc_buffer, dim=0),\n",
    "                                    mask,\n",
    "                                    slicing=slice(sliding_padding, sliding_padding+sliding_length),\n",
    "                                    encoding_window=encoding_window\n",
    "                                )\n",
    "                                reprs += torch.split(out, n_samples)\n",
    "                                calc_buffer = []\n",
    "                                calc_buffer_l = 0\n",
    "                            calc_buffer.append(x_sliding)\n",
    "                            calc_buffer_l += n_samples\n",
    "                        else:\n",
    "                            out = self._eval_with_pooling(\n",
    "                                x_sliding,\n",
    "                                mask,\n",
    "                                slicing=slice(sliding_padding, sliding_padding+sliding_length),\n",
    "                                encoding_window=encoding_window\n",
    "                            )\n",
    "                            reprs.append(out)\n",
    "\n",
    "                    if n_samples < batch_size:\n",
    "                        if calc_buffer_l > 0:\n",
    "                            out = self._eval_with_pooling(\n",
    "                                torch.cat(calc_buffer, dim=0),\n",
    "                                mask,\n",
    "                                slicing=slice(sliding_padding, sliding_padding+sliding_length),\n",
    "                                encoding_window=encoding_window\n",
    "                            )\n",
    "                            reprs += torch.split(out, n_samples)\n",
    "                            calc_buffer = []\n",
    "                            calc_buffer_l = 0\n",
    "                    \n",
    "                    out = torch.cat(reprs, dim=1)\n",
    "                    if encoding_window == 'full_series':\n",
    "                        out = F.max_pool1d(\n",
    "                            out.transpose(1, 2).contiguous(),\n",
    "                            kernel_size = out.size(1),\n",
    "                        ).squeeze(1)\n",
    "                else:\n",
    "                    out = self._eval_with_pooling(x, mask, encoding_window=encoding_window)\n",
    "                    if encoding_window == 'full_series':\n",
    "                        out = out.squeeze(1)\n",
    "                        \n",
    "                output.append(out)\n",
    "                \n",
    "            output = torch.cat(output, dim=0)\n",
    "            \n",
    "        self.net.train(org_training)\n",
    "        return output.numpy()\n",
    "    \n",
    "    def save(self, fn):\n",
    "        ''' Save the model to a file.\n",
    "        \n",
    "        Args:\n",
    "            fn (str): filename.\n",
    "        '''\n",
    "        torch.save(self.net.state_dict(), fn)\n",
    "    \n",
    "    def load(self, fn):\n",
    "        ''' Load the model from a file.\n",
    "        \n",
    "        Args:\n",
    "            fn (str): filename.\n",
    "        '''\n",
    "        state_dict = torch.load(fn, map_location=self.device)\n",
    "        self.net.load_state_dict(state_dict)"
   ]
  },
  {
   "cell_type": "code",
   "execution_count": 10,
   "id": "f7c9926f",
   "metadata": {
    "ExecuteTime": {
     "end_time": "2023-11-09T16:03:41.210275Z",
     "start_time": "2023-11-09T16:03:41.171447Z"
    }
   },
   "outputs": [],
   "source": [
    "config = dict(\n",
    "        batch_size=256,\n",
    "        lr=0.001,\n",
    "        output_dims=64)\n",
    "\n",
    "model = TS2Vec(\n",
    "        input_dims=input_shape[-1],\n",
    "        device=device,\n",
    "        **config\n",
    ")\n",
    "\n",
    "optimizer = torch.optim.AdamW(model._net.parameters(), lr=model.lr)"
   ]
  },
  {
   "cell_type": "code",
   "execution_count": 11,
   "id": "23cba94a",
   "metadata": {
    "ExecuteTime": {
     "end_time": "2023-11-09T16:03:41.505420Z",
     "start_time": "2023-11-09T16:03:41.500400Z"
    }
   },
   "outputs": [
    {
     "data": {
      "text/plain": [
       "TSEncoder(\n",
       "  (input_fc): Linear(in_features=17, out_features=64, bias=True)\n",
       "  (feature_extractor): DilatedConvEncoder(\n",
       "    (net): Sequential(\n",
       "      (0): ConvBlock(\n",
       "        (conv1): SamePadConv(\n",
       "          (conv): Conv1d(64, 64, kernel_size=(3,), stride=(1,), padding=(1,))\n",
       "        )\n",
       "        (conv2): SamePadConv(\n",
       "          (conv): Conv1d(64, 64, kernel_size=(3,), stride=(1,), padding=(1,))\n",
       "        )\n",
       "      )\n",
       "      (1): ConvBlock(\n",
       "        (conv1): SamePadConv(\n",
       "          (conv): Conv1d(64, 64, kernel_size=(3,), stride=(1,), padding=(2,), dilation=(2,))\n",
       "        )\n",
       "        (conv2): SamePadConv(\n",
       "          (conv): Conv1d(64, 64, kernel_size=(3,), stride=(1,), padding=(2,), dilation=(2,))\n",
       "        )\n",
       "      )\n",
       "      (2): ConvBlock(\n",
       "        (conv1): SamePadConv(\n",
       "          (conv): Conv1d(64, 64, kernel_size=(3,), stride=(1,), padding=(4,), dilation=(4,))\n",
       "        )\n",
       "        (conv2): SamePadConv(\n",
       "          (conv): Conv1d(64, 64, kernel_size=(3,), stride=(1,), padding=(4,), dilation=(4,))\n",
       "        )\n",
       "      )\n",
       "      (3): ConvBlock(\n",
       "        (conv1): SamePadConv(\n",
       "          (conv): Conv1d(64, 64, kernel_size=(3,), stride=(1,), padding=(8,), dilation=(8,))\n",
       "        )\n",
       "        (conv2): SamePadConv(\n",
       "          (conv): Conv1d(64, 64, kernel_size=(3,), stride=(1,), padding=(8,), dilation=(8,))\n",
       "        )\n",
       "      )\n",
       "      (4): ConvBlock(\n",
       "        (conv1): SamePadConv(\n",
       "          (conv): Conv1d(64, 64, kernel_size=(3,), stride=(1,), padding=(16,), dilation=(16,))\n",
       "        )\n",
       "        (conv2): SamePadConv(\n",
       "          (conv): Conv1d(64, 64, kernel_size=(3,), stride=(1,), padding=(16,), dilation=(16,))\n",
       "        )\n",
       "      )\n",
       "      (5): ConvBlock(\n",
       "        (conv1): SamePadConv(\n",
       "          (conv): Conv1d(64, 64, kernel_size=(3,), stride=(1,), padding=(32,), dilation=(32,))\n",
       "        )\n",
       "        (conv2): SamePadConv(\n",
       "          (conv): Conv1d(64, 64, kernel_size=(3,), stride=(1,), padding=(32,), dilation=(32,))\n",
       "        )\n",
       "      )\n",
       "      (6): ConvBlock(\n",
       "        (conv1): SamePadConv(\n",
       "          (conv): Conv1d(64, 64, kernel_size=(3,), stride=(1,), padding=(64,), dilation=(64,))\n",
       "        )\n",
       "        (conv2): SamePadConv(\n",
       "          (conv): Conv1d(64, 64, kernel_size=(3,), stride=(1,), padding=(64,), dilation=(64,))\n",
       "        )\n",
       "      )\n",
       "      (7): ConvBlock(\n",
       "        (conv1): SamePadConv(\n",
       "          (conv): Conv1d(64, 64, kernel_size=(3,), stride=(1,), padding=(128,), dilation=(128,))\n",
       "        )\n",
       "        (conv2): SamePadConv(\n",
       "          (conv): Conv1d(64, 64, kernel_size=(3,), stride=(1,), padding=(128,), dilation=(128,))\n",
       "        )\n",
       "      )\n",
       "      (8): ConvBlock(\n",
       "        (conv1): SamePadConv(\n",
       "          (conv): Conv1d(64, 64, kernel_size=(3,), stride=(1,), padding=(256,), dilation=(256,))\n",
       "        )\n",
       "        (conv2): SamePadConv(\n",
       "          (conv): Conv1d(64, 64, kernel_size=(3,), stride=(1,), padding=(256,), dilation=(256,))\n",
       "        )\n",
       "      )\n",
       "      (9): ConvBlock(\n",
       "        (conv1): SamePadConv(\n",
       "          (conv): Conv1d(64, 64, kernel_size=(3,), stride=(1,), padding=(512,), dilation=(512,))\n",
       "        )\n",
       "        (conv2): SamePadConv(\n",
       "          (conv): Conv1d(64, 64, kernel_size=(3,), stride=(1,), padding=(512,), dilation=(512,))\n",
       "        )\n",
       "      )\n",
       "      (10): ConvBlock(\n",
       "        (conv1): SamePadConv(\n",
       "          (conv): Conv1d(64, 64, kernel_size=(3,), stride=(1,), padding=(1024,), dilation=(1024,))\n",
       "        )\n",
       "        (conv2): SamePadConv(\n",
       "          (conv): Conv1d(64, 64, kernel_size=(3,), stride=(1,), padding=(1024,), dilation=(1024,))\n",
       "        )\n",
       "        (projector): Conv1d(64, 64, kernel_size=(1,), stride=(1,))\n",
       "      )\n",
       "    )\n",
       "  )\n",
       "  (repr_dropout): Dropout(p=0.1, inplace=False)\n",
       ")"
      ]
     },
     "execution_count": 11,
     "metadata": {},
     "output_type": "execute_result"
    }
   ],
   "source": [
    "model._net"
   ]
  },
  {
   "cell_type": "markdown",
   "id": "8d7c23fc",
   "metadata": {},
   "source": [
    "### STEP 5. Pre-training"
   ]
  },
  {
   "cell_type": "code",
   "execution_count": null,
   "id": "e7d6493b",
   "metadata": {
    "ExecuteTime": {
     "start_time": "2023-11-09T15:59:28.806Z"
    }
   },
   "outputs": [
    {
     "name": "stdout",
     "output_type": "stream",
     "text": [
      "Epoch #0: loss=3.1586358310762517\n",
      "Epoch #1: loss=1.9024026014588096\n",
      "Epoch #2: loss=1.377233736278597\n",
      "Epoch #3: loss=1.1387391696291522\n",
      "Epoch #4: loss=1.0689543586624555\n",
      "Epoch #5: loss=0.9504029685554426\n",
      "Epoch #6: loss=0.9125739551526456\n",
      "Epoch #7: loss=0.8327208890402613\n",
      "Epoch #8: loss=0.7698649874896057\n",
      "Epoch #9: loss=0.6940083689679785\n",
      "Epoch #10: loss=0.6504220891713111\n",
      "Epoch #11: loss=0.6322273622490158\n",
      "Epoch #12: loss=0.6188345230684793\n",
      "Epoch #13: loss=0.5492771900882406\n",
      "Epoch #14: loss=0.5363048496694605\n",
      "Epoch #15: loss=0.5251600855330297\n"
     ]
    }
   ],
   "source": [
    "loss_log = model.fit(\n",
    "        train_loader,\n",
    "        n_epochs=100,\n",
    "        n_iters=None,\n",
    "        verbose=True\n",
    "    )\n",
    "\n",
    "model.save(f'../checkpoints/best_model_TS2Vec.pkl')"
   ]
  },
  {
   "cell_type": "markdown",
   "id": "dbb3a33f",
   "metadata": {},
   "source": [
    "### STEP 6. Inference (Anomaly Detection)"
   ]
  },
  {
   "cell_type": "markdown",
   "id": "52fdfd2b",
   "metadata": {},
   "source": [
    "TS2Vec에서는 일반적인 재구축 오차를 통해 이상치 탐지를 수행하는 것이 아닌 마지막 시점을 masking한 시계열에 대한 representation과 원본 시계열에 대한 representation을 비교하여 이상 탐지를 수행합니다.\n",
    "\n",
    "따라서 Fine-tuning을 수행하지 않습니다."
   ]
  },
  {
   "cell_type": "markdown",
   "id": "66552629",
   "metadata": {},
   "source": [
    "<img src=\"../image/ts2vec03.png\" width=\"400\">"
   ]
  },
  {
   "cell_type": "code",
   "execution_count": 35,
   "id": "10935e89",
   "metadata": {
    "ExecuteTime": {
     "end_time": "2023-11-14T04:45:36.863781Z",
     "start_time": "2023-11-14T04:45:36.848751Z"
    }
   },
   "outputs": [],
   "source": [
    "def inference(model, loader):\n",
    "    labels = []  # 각 데이터 포인트의 레이블을 저장할 리스트\n",
    "    serial_nums = []  # 각 데이터 포인트의 시리얼 번호를 저장할 리스트\n",
    "    \n",
    "    all_test_repr = {}\n",
    "    all_test_repr_wom = {}\n",
    "    \n",
    "    res_log = []\n",
    "    \n",
    "    test_repr = model.encode(\n",
    "        loader,\n",
    "        mask='mask_last',\n",
    "        causal=True,\n",
    "        batch_size=256\n",
    "    ).squeeze()\n",
    "\n",
    "    test_repr_wom = model.encode(\n",
    "        loader,\n",
    "        causal=True,\n",
    "        batch_size=256\n",
    "    ).squeeze()\n",
    "        \n",
    "    test_err = np.abs(test_repr_wom - test_repr).sum(axis=1)\n",
    "        \n",
    "    res_log.append(test_err)\n",
    "    \n",
    "    for batch_idx, batch in enumerate(loader):\n",
    "        label = batch['label'][:,-1] # 레이블\n",
    "        serial_num = batch['serial_num'][:,-1]  # 시리얼 번호\n",
    "        labels.append(label)  # 레이블 추가\n",
    "        serial_nums.append(serial_num)  # 시리얼 번호 추가\n",
    "\n",
    "    # 결과를 1차원 배열로 변환\n",
    "    dist = np.concatenate(np.mean(res_log, axis=2)).flatten()\n",
    "    labels = np.concatenate(labels).flatten()\n",
    "    serial_nums = np.concatenate(serial_nums).flatten()\n",
    "        \n",
    "    return dist, labels, serial_nums  # 계산된 거리, 레이블, 시리얼 번호 반환"
   ]
  },
  {
   "cell_type": "code",
   "execution_count": 36,
   "id": "36f6cf00",
   "metadata": {
    "ExecuteTime": {
     "end_time": "2023-11-14T05:57:25.629556Z",
     "start_time": "2023-11-14T04:45:39.482423Z"
    }
   },
   "outputs": [],
   "source": [
    "model.load(f'../checkpoints/best_model_TS2Vec.pkl')\n",
    "anomaly_scores, labels, serial_nums = inference(model, val_loader)"
   ]
  },
  {
   "cell_type": "code",
   "execution_count": 39,
   "id": "d9754598",
   "metadata": {
    "ExecuteTime": {
     "end_time": "2023-11-14T11:58:44.551464Z",
     "start_time": "2023-11-14T11:58:44.534509Z"
    }
   },
   "outputs": [],
   "source": [
    "def check_score_graph(xs, att=None, piece=1, threshold=None):\n",
    "    \"\"\"\n",
    "    anomaly score and anomaly label visualization\n",
    "\n",
    "    Parameters\n",
    "    ----------\n",
    "    xs : np.ndarray\n",
    "        anomaly scores\n",
    "    att : np.ndarray (optional)\n",
    "        anomaly labels\n",
    "    piece : int (default=1)\n",
    "        number of figures to separate\n",
    "    threshold : float (default=None)\n",
    "        anomaly threshold\n",
    "\n",
    "    Return\n",
    "    ------\n",
    "    fig : plt.figure\n",
    "    \"\"\"\n",
    "    l = xs.shape[0]  # 점수 배열의 길이\n",
    "    chunk = l // piece  # 그래프를 나눌 청크(조각) 크기\n",
    "    fig, axs = plt.subplots(piece, figsize=(16, 4 * piece))  # 그래프 생성\n",
    "    \n",
    "    for i in range(piece):\n",
    "        L = i * chunk  # 현재 청크의 시작 인덱스\n",
    "        R = min(L + chunk, l)  # 현재 청크의 끝 인덱스\n",
    "        xticks = np.arange(L, R)  # x축 틱\n",
    "        ax = axs if piece == 1 else axs[i]  # 하위 그래프 선택\n",
    "        ax.plot(xticks, xs[L:R], color='#0C090A')  # 이상치 점수 플롯\n",
    "        ymin, ymax = ax.get_ylim()  # y축 범위 설정\n",
    "        ymin = 0\n",
    "        ax.set_ylim(ymin, ymax)\n",
    "        \n",
    "        # 이상치 레이블이 있는 경우에만 라인 플롯\n",
    "        if len(xs[L:R]) > 0 and att is not None:\n",
    "            ax.vlines(xticks[np.where(att[L:R] == 1)], ymin=ymin, ymax=ymax, color='#FED8B1',\n",
    "                      alpha=0.6, label='true anomaly')  # 실제 이상치 표시\n",
    "        ax.plot(xticks, xs[L:R], color='#0C090A', label='anomaly score')  # 이상치 점수 플롯\n",
    "        \n",
    "        # 임계값이 설정된 경우 임계선 표시\n",
    "        if threshold is not None:\n",
    "            ax.axhline(y=threshold, color='r', linestyle='--', alpha=0.8, label=f'threshold:{threshold:.4f}')\n",
    "        ax.legend()  # 범례 표시\n",
    "\n",
    "    return fig  # 생성된 그래프 반환"
   ]
  },
  {
   "cell_type": "code",
   "execution_count": 40,
   "id": "86eb27b6",
   "metadata": {
    "ExecuteTime": {
     "end_time": "2023-11-14T11:58:44.929508Z",
     "start_time": "2023-11-14T11:58:44.922649Z"
    }
   },
   "outputs": [
    {
     "name": "stdout",
     "output_type": "stream",
     "text": [
      "(146299,) (146299,)\n"
     ]
    }
   ],
   "source": [
    "print(anomaly_scores.shape, labels.shape)"
   ]
  },
  {
   "cell_type": "code",
   "execution_count": 41,
   "id": "09cee094",
   "metadata": {
    "ExecuteTime": {
     "end_time": "2023-11-14T11:58:49.221655Z",
     "start_time": "2023-11-14T11:58:45.695762Z"
    }
   },
   "outputs": [
    {
     "data": {
      "image/png": "[encoded data removed]",
      "text/plain": [
       "<Figure size 1152x1152 with 4 Axes>"
      ]
     },
     "metadata": {
      "needs_background": "light"
     },
     "output_type": "display_data"
    }
   ],
   "source": [
    "check_score_graph(anomaly_scores, labels, 4)\n",
    "plt.show()"
   ]
  },
  {
   "cell_type": "markdown",
   "id": "932074c6",
   "metadata": {},
   "source": [
    "### STEP 7. Evaluation"
   ]
  },
  {
   "cell_type": "code",
   "execution_count": 42,
   "id": "88538202",
   "metadata": {
    "ExecuteTime": {
     "end_time": "2023-11-14T11:58:59.695756Z",
     "start_time": "2023-11-14T11:58:59.675278Z"
    }
   },
   "outputs": [],
   "source": [
    "# 성능 메트릭 계산 함수\n",
    "def metric(y_true, y_pred, beta=2):\n",
    "    precision = precision_score(y_true, y_pred)  # 정밀도 계산\n",
    "    recall = recall_score(y_true, y_pred)  # 재현율 계산\n",
    "    f2_score = fbeta_score(y_true, y_pred, beta=beta)  # F2 점수 계산\n",
    "    \n",
    "    return [f2_score, precision, recall]  # 계산된 성능 메트릭 반환\n",
    "\n",
    "\n",
    "# 완전 탐색을 통해 최적의 threshold을 찾는 함수\n",
    "def bf_search(score, label, start, end=None, step_num=1, display_freq=1, verbose=True):\n",
    "    # 탐색 범위 설정\n",
    "    if step_num is None or end is None:\n",
    "        end = start\n",
    "        step_num = 1\n",
    "    search_step, search_range, search_lower_bound = step_num, end - start, start\n",
    "    \n",
    "    # 탐색 범위 출력\n",
    "    if verbose:\n",
    "        print(\"search range: \", search_lower_bound, search_lower_bound + search_range)\n",
    "    \n",
    "    thresholds = np.linspace(start, end, step_num)\n",
    "    m = [-1., -1., -1.] # 최대 F1 score와 관련 메트릭 초기화\n",
    "    m_t = 0.0 # 최적 threshold 초기화\n",
    "    \n",
    "    for threshold in thresholds:\n",
    "        pred = np.where(score>=threshold, 1, 0)\n",
    "        target = metric(label, pred)\n",
    "        \n",
    "        # 최고의 F1 score 업데이트\n",
    "        if target[0] > m[0]:\n",
    "            m_t = threshold\n",
    "            m = target\n",
    "            \n",
    "        # 현재 탐색 상황 출력\n",
    "        if verbose and i % display_freq == 0:\n",
    "            print(\"cur thr: \", threshold, target, m, m_t)\n",
    "    return m, m_t\n",
    "    \n",
    "# 성능 평가 함수 정의\n",
    "def evaluation(score, \n",
    "               y_true, \n",
    "               start, \n",
    "               end=None, \n",
    "               step_num=1, \n",
    "               display_freq=1, \n",
    "               verbose=False, \n",
    "               threshold=None):\n",
    "    \n",
    "    \n",
    "    # 임계값이 지정되지 않았으면 탐색 방법에 따라 최적의 임계값을 찾음\n",
    "    if threshold is None:\n",
    "        results, threshold = bf_search(score, \n",
    "                                       y_true, \n",
    "                                       start, \n",
    "                                       end, \n",
    "                                       step_num, \n",
    "                                       display_freq, \n",
    "                                       verbose)\n",
    "    \n",
    "    # 예측값 생성\n",
    "    y_pred = np.where(serial_avg_scores>=threshold, 1, 0)\n",
    "    # 이상치에 대한 F2 점수, 정밀도, 재현율 계산\n",
    "    [f2_score, precision, recall] = metric(y_true, y_pred)\n",
    "    \n",
    "    # 평가 결과 출력\n",
    "    print(f'[F2-score]: {f2_score:.4f}, [Precision]: {precision:.4f}, [Recall]: {recall:.4f}, [Threshold]: {threshold:.4f}')\n",
    "    \n",
    "    return f2_score, threshold"
   ]
  },
  {
   "cell_type": "code",
   "execution_count": 43,
   "id": "017bb8e5",
   "metadata": {
    "ExecuteTime": {
     "end_time": "2023-11-14T11:59:07.953964Z",
     "start_time": "2023-11-14T11:59:04.400689Z"
    }
   },
   "outputs": [
    {
     "name": "stdout",
     "output_type": "stream",
     "text": [
      "[F2-score]: 0.8147, [Precision]: 0.4844, [Recall]: 0.9822, [Threshold]: 0.1193\n"
     ]
    }
   ],
   "source": [
    "# 각 serial 번호와 label의 쌍을 고유하게 추출하여 정수 형태로 변환\n",
    "serial_label_pairs = np.unique(np.column_stack((serial_nums, labels)), axis=0).astype(np.int32)\n",
    "# 각 serial 번호에 대한 평균 anomaly score를 계산 (max 계산 시 mean 대신에 max)\n",
    "serial_avg_scores = np.array([anomaly_scores[serial_nums == serial].mean() for serial, _ in serial_label_pairs])\n",
    "\n",
    "# 성능 평가를 수행\n",
    "f2_score, threshold1 = evaluation(serial_avg_scores, \n",
    "                                 serial_label_pairs[:, 1],  # label만 추출\n",
    "                                 start=min(serial_avg_scores),  # 시작 threshold는 평균 점수의 최솟값\n",
    "                                 end=np.percentile(serial_avg_scores, 99),  # 끝 threshold는 평균 점수의 99백분위수\n",
    "                                 step_num=1000,  # 탐색할 threshold의 개수\n",
    "                                 display_freq=100,  # 진행 상황을 표시할 빈도\n",
    "                                 verbose=False)  # 진행 상황을 표시하지 않음"
   ]
  },
  {
   "cell_type": "code",
   "execution_count": 44,
   "id": "de319bd5",
   "metadata": {
    "ExecuteTime": {
     "end_time": "2023-11-14T11:59:12.958647Z",
     "start_time": "2023-11-14T11:59:12.933773Z"
    }
   },
   "outputs": [
    {
     "data": {
      "text/plain": [
       "(181, 1584, 27, 1488)"
      ]
     },
     "execution_count": 44,
     "metadata": {},
     "output_type": "execute_result"
    }
   ],
   "source": [
    "# 찾은 threshold에 대한 confusion matrix 결과\n",
    "tn, fp, fn, tp = confusion_matrix(serial_label_pairs[:, 1], np.where(serial_avg_scores>=threshold1, 1, 0)).ravel()\n",
    "(tn, fp, fn, tp)"
   ]
  },
  {
   "cell_type": "markdown",
   "id": "a89c36b9",
   "metadata": {},
   "source": [
    "---"
   ]
  }
 ],
 "metadata": {
  "hide_input": false,
  "kernelspec": {
   "display_name": "Python 3 (ipykernel)",
   "language": "python",
   "name": "python3"
  },
  "language_info": {
   "codemirror_mode": {
    "name": "ipython",
    "version": 3
   },
   "file_extension": ".py",
   "mimetype": "text/x-python",
   "name": "python",
   "nbconvert_exporter": "python",
   "pygments_lexer": "ipython3",
   "version": "3.10.14"
  },
  "latex_envs": {
   "LaTeX_envs_menu_present": true,
   "autoclose": false,
   "autocomplete": true,
   "bibliofile": "biblio.bib",
   "cite_by": "apalike",
   "current_citInitial": 1,
   "eqLabelWithNumbers": true,
   "eqNumInitial": 1,
   "hotkeys": {
    "equation": "Ctrl-E",
    "itemize": "Ctrl-I"
   },
   "labels_anchors": false,
   "latex_user_defs": false,
   "report_style_numbering": false,
   "user_envs_cfg": false
  },
  "nbTranslate": {
   "displayLangs": [
    "ko",
    "en"
   ],
   "hotkey": "alt-t",
   "langInMainMenu": true,
   "sourceLang": "en",
   "targetLang": "ko",
   "useGoogleTranslate": true
  },
  "toc": {
   "base_numbering": 1,
   "nav_menu": {},
   "number_sections": true,
   "sideBar": true,
   "skip_h1_title": false,
   "title_cell": "Table of Contents",
   "title_sidebar": "Contents",
   "toc_cell": false,
   "toc_position": {
    "height": "calc(100% - 180px)",
    "left": "10px",
    "top": "150px",
    "width": "268px"
   },
   "toc_section_display": true,
   "toc_window_display": false
  },
  "varInspector": {
   "cols": {
    "lenName": 16,
    "lenType": 16,
    "lenVar": 40
   },
   "kernels_config": {
    "python": {
     "delete_cmd_postfix": "",
     "delete_cmd_prefix": "del ",
     "library": "var_list.py",
     "varRefreshCmd": "print(var_dic_list())"
    },
    "r": {
     "delete_cmd_postfix": ") ",
     "delete_cmd_prefix": "rm(",
     "library": "var_list.r",
     "varRefreshCmd": "cat(var_dic_list()) "
    }
   },
   "types_to_exclude": [
    "module",
    "function",
    "builtin_function_or_method",
    "instance",
    "_Feature"
   ],
   "window_display": false
  }
 },
 "nbformat": 4,
 "nbformat_minor": 5
}
